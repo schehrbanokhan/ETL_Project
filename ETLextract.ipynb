{
 "cells": [
  {
   "cell_type": "markdown",
   "metadata": {},
   "source": [
    "# Purpose\n",
    "\n",
    "South Korea entered into a trade agreement with the US that was implemented in March 2012.\n",
    "\n",
    "To examine the influence of the tariff adjustments under the agreement, data pertaining to aluminum powder imports over the years 2008 to 2016, and the tariffs thereof, were the target of the following ETL process. Note that aluminum powder has a tariff duty Ad Valorum, meaning as a percentage of cost.\n",
    "\n",
    "Text files of the tariff data and .csv files of the imports were extracted from government databases into pandas dataframes, cleaned using the pandas library, and then uploaded to a SQLite table using SQLalchemy in tandem with pandas.\n",
    "\n",
    "**Information sources**:  \n",
    "\n",
    "* U.S. - Korea Free Trade Agreement. (n.d.). Retrieved from https://ustr.gov/trade-agreements/free-trade-agreements/korus-fta\n",
    "\n",
    "**Data sources**:  \n",
    "\n",
    "_Imports_\n",
    "* Product Profiles of U.S. Merchandise Trade with a Selected Market. (n.d.). Retrieved from http://tse.export.gov/tse/\n",
    "    * searched for Selected Markets: \"Geographic Regions/Asia\", then selected \"flow: imports\" and \"item: HS - 76\" for aluminum products, \"Display Data for: 2008 to: 2016\"  \n",
    "\n",
    "\n",
    "* Global Patterns of U.S. Merchandise Trade (n.d.). Retrieved from http://tse.export.gov/tse/\n",
    "    * searched for Selected Markets: Selected \"flow: imports\" and \"item: HS - 7603\" for aluminum powder and flakes, \"Display Data for: 2008 to: 2016\"  \n",
    "\n",
    "\n",
    "_Tariffs_\n",
    "* Annual Tariff Data. (n.d.). Retrieved from https://dataweb.usitc.gov/tariff/annual\n"
   ]
  },
  {
   "cell_type": "code",
   "execution_count": 1,
   "metadata": {},
   "outputs": [],
   "source": [
    "# Dependencies\n",
    "import pandas as pd\n",
    "from sqlalchemy import create_engine"
   ]
  },
  {
   "cell_type": "code",
   "execution_count": 2,
   "metadata": {},
   "outputs": [],
   "source": [
    "# Using SQLite so as not to need a localhost instance, but could easily be adapted to mysql using PyMysql library\n",
    "engine = create_engine(\"sqlite://\", echo=False)"
   ]
  },
  {
   "cell_type": "markdown",
   "metadata": {},
   "source": [
    "# Extract\n",
    "\n",
    "Data was downloaded from http://tse.export.gov/tse/ as .txt files, which are saved in the local resources folder. \n",
    "\n",
    "The following extracts the data into dataframes for cleanup. Only the years 2008 to 2016 are to be analyzed"
   ]
  },
  {
   "cell_type": "code",
   "execution_count": 3,
   "metadata": {},
   "outputs": [],
   "source": [
    "# File route for the a loop to extract data from csvs\n",
    "file_route = \"resources\"\n",
    "years = list(range(2008,2017))\n",
    "years = [str(year) for year in years]"
   ]
  },
  {
   "cell_type": "code",
   "execution_count": 4,
   "metadata": {},
   "outputs": [],
   "source": [
    "# Extracting import data from Asia as a whole from .csv file\n",
    "asia_df = pd.read_csv(\"resources/DATA_HS_76__ALUMINUM_AND_ARTICLES_THEREOF_Imports_from_Asia.csv\")\n",
    "# put into series\n",
    "asia_S = asia_df.loc[14, years]\n",
    "\n",
    "# South Korea is a row in the World data .csv file\n",
    "korea_from_world=pd.read_csv(\"resources/DATA_Imports_of_HS_7603__ALUMINUM_POWDERS_AND_FLAKES.csv\")\n",
    "# put into series\n",
    "sk_S = korea_from_world.loc[7,:]"
   ]
  },
  {
   "cell_type": "code",
   "execution_count": 5,
   "metadata": {},
   "outputs": [],
   "source": [
    "# Import the csv data to a dataframe for cleanup\n",
    "data_list = []\n",
    "for year in years:\n",
    "    directory = f\"{file_route}/{year}.txt\"\n",
    "    \n",
    "    # the .txt values are separated by the pipe (|) character, \n",
    "    # which pd.read_csv can readily handle.\n",
    "    data = pd.read_csv(directory, sep='|', low_memory=False, dtype={'hts8':str})\n",
    "    \n",
    "    # some of the .txt files contain duplicate rows, which are dropped as part of this loop.\n",
    "    data.drop_duplicates(subset='hts8', inplace=True)\n",
    "    data_list.append(data)"
   ]
  },
  {
   "cell_type": "markdown",
   "metadata": {},
   "source": [
    "# Transform\n",
    "\n",
    "The dataframes formed during extraction contain 111 columns and over 10,000 rows, and the target data regards only aluminum powders and flakes (hts8 codes 7603-1000 and 7603-2000)."
   ]
  },
  {
   "cell_type": "code",
   "execution_count": 7,
   "metadata": {},
   "outputs": [
    {
     "data": {
      "text/html": [
       "<div>\n",
       "<style scoped>\n",
       "    .dataframe tbody tr th:only-of-type {\n",
       "        vertical-align: middle;\n",
       "    }\n",
       "\n",
       "    .dataframe tbody tr th {\n",
       "        vertical-align: top;\n",
       "    }\n",
       "\n",
       "    .dataframe thead th {\n",
       "        text-align: right;\n",
       "    }\n",
       "</style>\n",
       "<table border=\"1\" class=\"dataframe\">\n",
       "  <thead>\n",
       "    <tr style=\"text-align: right;\">\n",
       "      <th></th>\n",
       "      <th>year</th>\n",
       "      <th>south_korea</th>\n",
       "      <th>asia</th>\n",
       "    </tr>\n",
       "  </thead>\n",
       "  <tbody>\n",
       "    <tr>\n",
       "      <th>0</th>\n",
       "      <td>2008</td>\n",
       "      <td>3268574</td>\n",
       "      <td>5563713</td>\n",
       "    </tr>\n",
       "    <tr>\n",
       "      <th>1</th>\n",
       "      <td>2009</td>\n",
       "      <td>1585607</td>\n",
       "      <td>2877272</td>\n",
       "    </tr>\n",
       "    <tr>\n",
       "      <th>2</th>\n",
       "      <td>2010</td>\n",
       "      <td>1684673</td>\n",
       "      <td>3743088</td>\n",
       "    </tr>\n",
       "    <tr>\n",
       "      <th>3</th>\n",
       "      <td>2011</td>\n",
       "      <td>1988058</td>\n",
       "      <td>4026873</td>\n",
       "    </tr>\n",
       "    <tr>\n",
       "      <th>4</th>\n",
       "      <td>2012</td>\n",
       "      <td>2311044</td>\n",
       "      <td>5470198</td>\n",
       "    </tr>\n",
       "  </tbody>\n",
       "</table>\n",
       "</div>"
      ],
      "text/plain": [
       "   year south_korea     asia\n",
       "0  2008     3268574  5563713\n",
       "1  2009     1585607  2877272\n",
       "2  2010     1684673  3743088\n",
       "3  2011     1988058  4026873\n",
       "4  2012     2311044  5470198"
      ]
     },
     "execution_count": 7,
     "metadata": {},
     "output_type": "execute_result"
    }
   ],
   "source": [
    "# transform imports data\n",
    "\n",
    "# combining Asia-at-large and South Korea series into DF\n",
    "sk_comparison = pd.DataFrame([sk_S, asia_S])\n",
    "# transpose to make years column as index\n",
    "sk_comparison = sk_comparison.transpose()\n",
    "# drop unnecessary row\n",
    "sk_comparison.drop(['Partner'], inplace=True)\n",
    "# rename columns\n",
    "sk_comparison.reset_index(inplace=True)\n",
    "sk_comparison.columns = ['year', 'south_korea','asia']\n",
    "\n",
    "# show results\n",
    "sk_comparison.head()"
   ]
  },
  {
   "cell_type": "code",
   "execution_count": 8,
   "metadata": {},
   "outputs": [
    {
     "name": "stderr",
     "output_type": "stream",
     "text": [
      "/anaconda3/lib/python3.7/site-packages/pandas/core/indexing.py:1472: FutureWarning: \n",
      "Passing list-likes to .loc or [] with any missing label will raise\n",
      "KeyError in the future, you can use .reindex() as an alternative.\n",
      "\n",
      "See the documentation here:\n",
      "https://pandas.pydata.org/pandas-docs/stable/indexing.html#deprecate-loc-reindex-listlike\n",
      "  return self._getitem_tuple(key)\n"
     ]
    }
   ],
   "source": [
    "# transform tariffs data\n",
    "\n",
    "subdata_list = []\n",
    "\n",
    "for df, year in zip(data_list,years):\n",
    "    # select out pertinant columns from overall dataframe for each year\n",
    "    subdata = df.loc[(df['hts8']=='76031000') | (df['hts8']=='76032000'), ['hts8', 'brief_description', 'mfn_ad_val_rate', 'korea_ad_val_rate']]\n",
    "    # append year column to the dataframe\n",
    "    subdata['year'] = [year, year]\n",
    "    # append dataframe to list for later concatination\n",
    "    subdata_list.append(subdata)"
   ]
  },
  {
   "cell_type": "code",
   "execution_count": 10,
   "metadata": {},
   "outputs": [],
   "source": [
    "# make final dataframe from list of sub-dataframes\n",
    "alum_data = pd.concat(subdata_list)\n",
    "\n",
    "# fill korea_ad_val_rate NaN values to match the general mfn_ad_val_rate \n",
    "# for years before trade agreement (2008-2011)\n",
    "alum_data['korea_ad_val_rate'].fillna(alum_data['mfn_ad_val_rate'], inplace=True)\n",
    "alum_data.reset_index(inplace=True, drop=True)"
   ]
  },
  {
   "cell_type": "code",
   "execution_count": 11,
   "metadata": {},
   "outputs": [
    {
     "data": {
      "text/html": [
       "<div>\n",
       "<style scoped>\n",
       "    .dataframe tbody tr th:only-of-type {\n",
       "        vertical-align: middle;\n",
       "    }\n",
       "\n",
       "    .dataframe tbody tr th {\n",
       "        vertical-align: top;\n",
       "    }\n",
       "\n",
       "    .dataframe thead th {\n",
       "        text-align: right;\n",
       "    }\n",
       "</style>\n",
       "<table border=\"1\" class=\"dataframe\">\n",
       "  <thead>\n",
       "    <tr style=\"text-align: right;\">\n",
       "      <th></th>\n",
       "      <th>hts8</th>\n",
       "      <th>brief_description</th>\n",
       "      <th>mfn_ad_val_rate</th>\n",
       "      <th>korea_ad_val_rate</th>\n",
       "      <th>year</th>\n",
       "    </tr>\n",
       "  </thead>\n",
       "  <tbody>\n",
       "    <tr>\n",
       "      <th>0</th>\n",
       "      <td>76031000</td>\n",
       "      <td>Aluminum, powders of non-lamellar structure</td>\n",
       "      <td>0.050</td>\n",
       "      <td>0.050</td>\n",
       "      <td>2008</td>\n",
       "    </tr>\n",
       "    <tr>\n",
       "      <th>1</th>\n",
       "      <td>76032000</td>\n",
       "      <td>Aluminum, powders of lamellar structure; alumi...</td>\n",
       "      <td>0.039</td>\n",
       "      <td>0.039</td>\n",
       "      <td>2008</td>\n",
       "    </tr>\n",
       "    <tr>\n",
       "      <th>2</th>\n",
       "      <td>76031000</td>\n",
       "      <td>Aluminum, powders of non-lamellar structure</td>\n",
       "      <td>0.050</td>\n",
       "      <td>0.050</td>\n",
       "      <td>2009</td>\n",
       "    </tr>\n",
       "    <tr>\n",
       "      <th>3</th>\n",
       "      <td>76032000</td>\n",
       "      <td>Aluminum, powders of lamellar structure; alumi...</td>\n",
       "      <td>0.039</td>\n",
       "      <td>0.039</td>\n",
       "      <td>2009</td>\n",
       "    </tr>\n",
       "    <tr>\n",
       "      <th>4</th>\n",
       "      <td>76031000</td>\n",
       "      <td>Aluminum, powders of non-lamellar structure</td>\n",
       "      <td>0.050</td>\n",
       "      <td>0.050</td>\n",
       "      <td>2010</td>\n",
       "    </tr>\n",
       "  </tbody>\n",
       "</table>\n",
       "</div>"
      ],
      "text/plain": [
       "       hts8                                  brief_description  \\\n",
       "0  76031000        Aluminum, powders of non-lamellar structure   \n",
       "1  76032000  Aluminum, powders of lamellar structure; alumi...   \n",
       "2  76031000        Aluminum, powders of non-lamellar structure   \n",
       "3  76032000  Aluminum, powders of lamellar structure; alumi...   \n",
       "4  76031000        Aluminum, powders of non-lamellar structure   \n",
       "\n",
       "   mfn_ad_val_rate  korea_ad_val_rate  year  \n",
       "0            0.050              0.050  2008  \n",
       "1            0.039              0.039  2008  \n",
       "2            0.050              0.050  2009  \n",
       "3            0.039              0.039  2009  \n",
       "4            0.050              0.050  2010  "
      ]
     },
     "execution_count": 11,
     "metadata": {},
     "output_type": "execute_result"
    }
   ],
   "source": [
    "# show results\n",
    "alum_data.head()"
   ]
  },
  {
   "cell_type": "markdown",
   "metadata": {},
   "source": [
    "# Load\n",
    "\n",
    "Upload aluminum tariff data and South Korea/Asia imports data to SQLite as tables for the analysts. Separate tables are uploaded for tariffs and for imports, otherwise the import data would have to be repeated excessively in a join. Analyst can choose whether they would like to examine powder, flakes, or both via a join in SQL."
   ]
  },
  {
   "cell_type": "code",
   "execution_count": 12,
   "metadata": {},
   "outputs": [],
   "source": [
    "alum_data.to_sql('tariffs', con=engine, if_exists='replace')"
   ]
  },
  {
   "cell_type": "code",
   "execution_count": 13,
   "metadata": {},
   "outputs": [],
   "source": [
    "sk_comparison.to_sql('imports', con=engine, if_exists='replace')"
   ]
  }
 ],
 "metadata": {
  "kernelspec": {
   "display_name": "Python 3",
   "language": "python",
   "name": "python3"
  },
  "language_info": {
   "codemirror_mode": {
    "name": "ipython",
    "version": 3
   },
   "file_extension": ".py",
   "mimetype": "text/x-python",
   "name": "python",
   "nbconvert_exporter": "python",
   "pygments_lexer": "ipython3",
   "version": "3.7.0"
  }
 },
 "nbformat": 4,
 "nbformat_minor": 2
}
